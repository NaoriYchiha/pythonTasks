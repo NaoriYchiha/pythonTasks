{
 "cells": [
  {
   "cell_type": "markdown",
   "id": "3f7bb6c1",
   "metadata": {},
   "source": [
    "# Ісландія\n",
    "\n",
    "## Загальна інформація\n",
    "\n",
    "<div style=\"border: 2px solid #000; padding: 10px; background-color: #f9f9f9;\">\n",
    "- Площа: <span style=\"color: blue;\">103,000 км²</span><br>\n",
    "- Населення: <span style=\"color: green;\">близько 370,000 осіб (2023)</span><br>\n",
    "- Державний устрій: <span style=\"color: orange;\">парламентська республіка</span>\n",
    "</div>\n",
    "\n",
    "## Видатні персоналії\n",
    "\n",
    "1. **Грімюр Т. Сигурдссон** - *ісландський поет і романіст.*\n",
    "2. **Гудрун Олафсдоттір** - *відома ісландська письменниця, лауреатка кількох літературних премій.*\n",
    "3. **Долфі Льоренц** - *видатний ісландський фізик, відомий своєю роботою в галузі геофізики.*\n",
    "\n",
    "## Пам’ятки культури\n",
    "\n",
    "- **Рейк’явік** - столиця країни, зокрема:\n",
    "  - **Халлгримскіркья** - *величезна церква, символ Рейк’явіка.*\n",
    "  - **Національний музей Ісландії** - *музей, що розповідає про історію та культуру Ісландії.*\n",
    "  - **Старе місто** - *район з історичними будівлями та колоритними кафе.*\n",
    "\n",
    "## Природні пам’ятки\n",
    "\n",
    "- **Гейзери** - природні гарячі джерела, зокрема Гейзер Строккур, який викидає пару кожні 5–10 хвилин.\n",
    "- **Національний парк Тінгветлір** - історичне місце, де відбулися перші збори ісландського парламенту.\n",
    "- **Ледник Ватнайокутль** - найбільший ледник в Ісландії, з багатьма водоспадами і льодовими печерами.\n",
    "\n",
    "## Додаткова інформація\n",
    "\n",
    "| **Інформація**          | **Деталі**                             |\n",
    "|-------------------------|----------------------------------------|\n",
    "| **Офіційна мова**      | ісландська                           |\n",
    "| **Валюта**             | ісландська крона (ISK)                |\n",
    "| **Часовий пояс**       | Ісландія (UTC)                        |\n",
    "\n",
    "## Гіперпосилання та зображення\n",
    "\n",
    "- Для отримання більше інформації про Ісландію, відвідайте [Wikipedia](https://uk.wikipedia.org/wiki/Ісландія).\n",
    "\n",
    "\n",
    "\n",
    "<p style=\"border: 2px solid #000; padding: 10px; background-color: #f9f9f9;\">\n",
    "    В Ісландії можна побачити унікальну природу, включаючи вулкани, geysers, льодовики і водоспади.\n",
    "</p>   \n",
    "\n",
    "\n",
    "## Краєвиди Ісландії\n",
    "![](images.jpg)\n",
    "\n",
    "![](https://s.rfi.fr/media/display/cbded4ec-9e73-11ee-9af9-005056a97e36/2023-12-19T063717Z_1621755247_RC2ZZ4AOTNWN_RTRMADP_3_ICELAND-VOLCANO.webp)\n",
    "\n",
    "### Додаткове завдання"
   ]
  },
  {
   "cell_type": "code",
   "execution_count": 1,
   "id": "be2a12c7",
   "metadata": {},
   "outputs": [
    {
     "data": {
      "image/svg+xml": [
       "<svg height=\"400\" width=\"600\" xmlns=\"http://ww/w3/org/200/svg\">\n",
       "      <!-- Синій фон -->\n",
       "    <rect fill=\"#0033A0\" height=\"400\" width=\"600\"/>\n",
       "    \n",
       "    <!-- Білий хрест -->\n",
       "    <rect fill=\"#FFFFFF\" height=\"400\" width=\"100\" x=\"200\"/>\n",
       "    <rect fill=\"#FFFFFF\" height=\"100\" width=\"600\" y=\"150\"/>\n",
       "    \n",
       "    <!-- Червоний хрест -->\n",
       "    <rect fill=\"#FF0000\" height=\"400\" width=\"50\" x=\"225\"/>\n",
       "    <rect fill=\"#FF0000\" height=\"50\" width=\"600\" y=\"175\"/>\n",
       "        \n",
       "</svg>"
      ],
      "text/plain": [
       "<IPython.core.display.SVG object>"
      ]
     },
     "metadata": {},
     "output_type": "display_data"
    }
   ],
   "source": [
    "from IPython.display import SVG, display\n",
    "svg_code = '''<svg xmlns=\"http://ww/w3/org/200/svg\" width=\"600\" height=\"400\">\n",
    "    <rect width=\"600\" height=\"400\" fill=\"#0033A0\" />\n",
    "    \n",
    "    <rect x=\"200\" width=\"100\" height=\"400\" fill=\"#FFFFFF\" />\n",
    "    <rect y=\"150\" width=\"600\" height=\"100\" fill=\"#FFFFFF\" />\n",
    "    \n",
    "    <rect x=\"225\" width=\"50\" height=\"400\" fill=\"#FF0000\" />\n",
    "    <rect y=\"175\" width=\"600\" height=\"50\" fill=\"#FF0000\" />\n",
    "        \n",
    "</svg>'''\n",
    "\n",
    "display(SVG(data=svg_code))"
   ]
  },
  {
   "cell_type": "code",
   "execution_count": null,
   "id": "e050a4df",
   "metadata": {},
   "outputs": [],
   "source": []
  }
 ],
 "metadata": {
  "kernelspec": {
   "display_name": "Python 3 (ipykernel)",
   "language": "python",
   "name": "python3"
  },
  "language_info": {
   "codemirror_mode": {
    "name": "ipython",
    "version": 3
   },
   "file_extension": ".py",
   "mimetype": "text/x-python",
   "name": "python",
   "nbconvert_exporter": "python",
   "pygments_lexer": "ipython3",
   "version": "3.7.1"
  }
 },
 "nbformat": 4,
 "nbformat_minor": 5
}
