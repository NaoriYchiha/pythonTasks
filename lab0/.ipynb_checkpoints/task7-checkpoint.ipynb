{
 "cells": [
  {
   "cell_type": "code",
   "execution_count": 1,
   "id": "2446d02b",
   "metadata": {},
   "outputs": [
    {
     "name": "stdout",
     "output_type": "stream",
     "text": [
      "Введіть число (ціле або дробне): 10.30\n",
      "Двійкове представлення числа 10.30 = 1010.01001\n"
     ]
    }
   ],
   "source": [
    "def decimal_to_binary_integer(n):\n",
    "    if n == 0:\n",
    "        return \"0\"\n",
    "    \n",
    "    binary = \"\"\n",
    "    while n > 0:\n",
    "        binary = str(n % 2) + binary\n",
    "        n //= 2\n",
    "    return binary\n",
    "\n",
    "def decimal_to_binary_fraction(fraction, precision=5):\n",
    "    binary_fraction = \".\"\n",
    "    while fraction > 0 and precision > 0:\n",
    "        fraction *= 2\n",
    "        bit = int(fraction)\n",
    "        binary_fraction += str(bit)\n",
    "        fraction -= bit\n",
    "        precision -= 1\n",
    "    return binary_fraction\n",
    "\n",
    "def decimal_to_binary(num):\n",
    "    if '.' in str(num):\n",
    "        integer_part, fraction_part = str(num).split('.')\n",
    "        integer_binary = decimal_to_binary_integer(int(integer_part))\n",
    "        fraction_binary = decimal_to_binary_fraction(float('0.' + fraction_part))\n",
    "        return integer_binary + fraction_binary\n",
    "    else:\n",
    "        return decimal_to_binary_integer(int(num))\n",
    "\n",
    "number = input(\"Введіть число (ціле або дробне): \")\n",
    "try:\n",
    "    binary_representation = decimal_to_binary(number)\n",
    "    print(f\"Двійкове представлення числа {number} = {binary_representation}\")\n",
    "except ValueError:\n",
    "    print(\"Некоректне введення. Будь-ласка, введіть дійсне число.\")\n"
   ]
  },
  {
   "cell_type": "code",
   "execution_count": null,
   "id": "29435775",
   "metadata": {},
   "outputs": [],
   "source": [
    "number = ord(\"Б\") % 10 + 1\n",
    "print(number)"
   ]
  }
 ],
 "metadata": {
  "kernelspec": {
   "display_name": "Python 3 (ipykernel)",
   "language": "python",
   "name": "python3"
  },
  "language_info": {
   "codemirror_mode": {
    "name": "ipython",
    "version": 3
   },
   "file_extension": ".py",
   "mimetype": "text/x-python",
   "name": "python",
   "nbconvert_exporter": "python",
   "pygments_lexer": "ipython3",
   "version": "3.7.1"
  }
 },
 "nbformat": 4,
 "nbformat_minor": 5
}
