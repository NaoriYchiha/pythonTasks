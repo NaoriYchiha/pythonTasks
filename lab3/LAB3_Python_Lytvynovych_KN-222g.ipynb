{
 "cells": [
  {
   "cell_type": "code",
   "execution_count": 1,
   "id": "008b48d3-2b8f-4107-8669-278d6961c7cf",
   "metadata": {},
   "outputs": [
    {
     "name": "stdout",
     "output_type": "stream",
     "text": [
      "----------------------------------------\n",
      "                Energy Supply Energy Supply per Capita % Renewable\n",
      "Country                                                           \n",
      "American Samoa            NaN                      NaN    0.641026\n",
      "Bolivia          3.360000e+08                       32    31.47712\n",
      "South Korea      1.100700e+10                      221    2.279353\n",
      "----------------------------------------\n",
      "         2006  2007  2008  2009          2010  2011  2012  2013  2014  2015\n",
      "Country                                                                    \n",
      "Aruba     NaN   NaN   NaN   NaN  2.467704e+09   NaN   NaN   NaN   NaN   NaN\n",
      "----------------------------------------\n",
      "                    Rank  Documents  Citable documents  Citations  \\\n",
      "Country                                                             \n",
      "China                  1     127050             126767     597237   \n",
      "Japan                  3      30504              30287     223024   \n",
      "Russian Federation     5      18534              18301      34266   \n",
      "\n",
      "                    Self-citations  Citations per document  H index  \\\n",
      "Country                                                               \n",
      "China                       411683                    4.70      138   \n",
      "Japan                        61554                    7.31      134   \n",
      "Russian Federation           12422                    1.85       57   \n",
      "\n",
      "                    Energy Supply Energy Supply per Capita % Renewable  \\\n",
      "Country                                                                  \n",
      "China                1.271910e+11                       93    19.75491   \n",
      "Japan                1.898400e+10                      149    10.23282   \n",
      "Russian Federation   3.070900e+10                      214    17.28868   \n",
      "\n",
      "                            2006          2007          2008          2009  \\\n",
      "Country                                                                      \n",
      "China               3.992331e+12  4.559041e+12  4.997775e+12  5.459247e+12   \n",
      "Japan               5.496542e+12  5.617036e+12  5.558527e+12  5.251308e+12   \n",
      "Russian Federation  1.385793e+12  1.504071e+12  1.583004e+12  1.459199e+12   \n",
      "\n",
      "                            2010          2011          2012          2013  \\\n",
      "Country                                                                      \n",
      "China               6.039659e+12  6.612490e+12  7.124978e+12  7.672448e+12   \n",
      "Japan               5.498718e+12  5.473738e+12  5.569102e+12  5.644659e+12   \n",
      "Russian Federation  1.524917e+12  1.589943e+12  1.645876e+12  1.666934e+12   \n",
      "\n",
      "                            2014          2015  \n",
      "Country                                         \n",
      "China               8.230121e+12  8.797999e+12  \n",
      "Japan               5.642884e+12  5.669563e+12  \n",
      "Russian Federation  1.678709e+12  1.616149e+12  \n",
      "----------------------------------------\n"
     ]
    }
   ],
   "source": [
    "import pandas as pd\n",
    "import numpy as np\n",
    "\n",
    "# Step 1: Read the energy data file\n",
    "DataFrameWithEnergy = pd.read_excel(\"En_In.xls\", skiprows=2, usecols=\"C:F\")\n",
    "DataFrameWithEnergy.columns = ['Country', 'Energy Supply', 'Energy Supply per Capita', '% Renewable']\n",
    "\n",
    "# Replace \"...\" with NaN and convert values to numeric type\n",
    "DataFrameWithEnergy['Energy Supply'] = DataFrameWithEnergy['Energy Supply'].replace(\"...\", np.nan)\n",
    "DataFrameWithEnergy['Energy Supply per Capita'] = DataFrameWithEnergy['Energy Supply per Capita'].replace(\"...\", np.nan)\n",
    "DataFrameWithEnergy['Energy Supply'] = pd.to_numeric(DataFrameWithEnergy['Energy Supply'], errors='coerce') * 1_000_000\n",
    "\n",
    "# Step 3: Rename specific countries\n",
    "country_renames = {\n",
    "    \"Republic of Korea\": \"South Korea\",\n",
    "    \"United States of America\": \"United States\",\n",
    "    \"United Kingdom of Great Britain and Northern Ireland\": \"United Kingdom\",\n",
    "    \"China, Hong Kong Special Administrative Region\": \"Hong Kong\"\n",
    "}\n",
    "DataFrameWithEnergy['Country'] = DataFrameWithEnergy['Country'].replace(country_renames)ы\n",
    "\n",
    "# Step 4: Remove digits and text in parentheses from country names\n",
    "DataFrameWithEnergy['Country'] = DataFrameWithEnergy['Country'].str.replace(r'\\d+', '', regex=True)\n",
    "DataFrameWithEnergy['Country'] = DataFrameWithEnergy['Country'].str.replace(r'\\s*\\(.*\\)', '', regex=True).str.strip()\n",
    "\n",
    "# Set index to country name\n",
    "DataFrameWithEnergy = DataFrameWithEnergy.set_index('Country')[['Energy Supply', 'Energy Supply per Capita', '% Renewable']]\n",
    "\n",
    "print(\"----------------------------------------\")\n",
    "\n",
    "# Check for the presence of specific countries\n",
    "CheckRightInfo = DataFrameWithEnergy.loc[DataFrameWithEnergy.index.isin(['American Samoa', 'South Korea', 'Bolivia'])]\n",
    "print(CheckRightInfo)\n",
    "print(\"----------------------------------------\")\n",
    "\n",
    "# Read the GDP data file\n",
    "GPDDataFrame = pd.read_csv(\"gpd.csv\", skiprows=4)\n",
    "\n",
    "country_renames = {\n",
    "    \"Korea, Rep.\": \"South Korea\",\n",
    "    \"Iran, Islamic Rep.\": \"Iran\",\n",
    "    \"Hong Kong SAR, China\": \"Hong Kong\"\n",
    "}\n",
    "\n",
    "GPDDataFrame['Country Name'] = GPDDataFrame['Country Name'].replace(country_renames)\n",
    "GPDDataFrame = GPDDataFrame.rename(columns={'Country Name': 'Country'}).set_index('Country').loc[:, '2006':'2015']\n",
    "\n",
    "print(GPDDataFrame.head(1))\n",
    "print(\"----------------------------------------\")\n",
    "\n",
    "# Read the Scimagojr data file\n",
    "ScimagojrDataFrame = pd.read_excel(\"scimagojr.xlsx\")\n",
    "ScimagojrDataFrame = ScimagojrDataFrame.loc[ScimagojrDataFrame['Rank'] <= 15]\n",
    "ScimagojrDataFrame = ScimagojrDataFrame.set_index('Country')[['Rank', 'Documents', 'Citable documents', 'Citations',\n",
    "                                                               'Self-citations', 'Citations per document', 'H index']]\n",
    "\n",
    "# Merge all DataFrames\n",
    "combined_df = pd.merge(ScimagojrDataFrame, DataFrameWithEnergy, left_index=True, right_index=True, how='inner')\n",
    "combined_df = pd.merge(combined_df, GPDDataFrame, left_index=True, right_index=True, how='inner')\n",
    "\n",
    "print(combined_df.head(3))\n",
    "print(\"----------------------------------------\")\n"
   ]
  },
  {
   "cell_type": "code",
   "execution_count": 2,
   "id": "ca26eb89-660f-4af6-a5aa-3ff745b399b2",
   "metadata": {},
   "outputs": [
    {
     "name": "stdout",
     "output_type": "stream",
     "text": [
      "Country\n",
      "China                 6.348609e+12\n",
      "Japan                 5.542208e+12\n",
      "Germany               3.493025e+12\n",
      "France                2.681725e+12\n",
      "Brazil                2.189794e+12\n",
      "Italy                 2.120175e+12\n",
      "India                 1.769297e+12\n",
      "Canada                1.660647e+12\n",
      "Russian Federation    1.565459e+12\n",
      "Spain                 1.418078e+12\n",
      "Australia             1.164043e+12\n",
      "South Korea           1.106715e+12\n",
      "Iran                  4.441558e+11\n",
      "dtype: float64\n"
     ]
    }
   ],
   "source": [
    "# task 8\n",
    "def calculateAverageGpd(OurDF):\n",
    "    GDPcolumns = OurDF.loc[:, '2006':'2015']\n",
    "    \n",
    "    averageGDP = GDPcolumns.mean(axis=1)\n",
    "    \n",
    "    averageGDPseries = averageGDP.sort_values(ascending=False)\n",
    "    \n",
    "    return averageGDPseries\n",
    "\n",
    "print(calculateAverageGpd(combined_df))"
   ]
  },
  {
   "cell_type": "code",
   "execution_count": 27,
   "id": "feee742a-affb-4968-9413-aef5dae43d46",
   "metadata": {},
   "outputs": [
    {
     "name": "stdout",
     "output_type": "stream",
     "text": [
      "('Brazil', 474343725980.5698)\n"
     ]
    }
   ],
   "source": [
    "# task 9\n",
    "def gdpChangeForFifthCountry(OurDF):\n",
    "    averageGDP = OurDF.loc[:, '2006':'2015'].mean(axis=1)\n",
    "    \n",
    "    fifthCountry = averageGDP.nlargest(5).index[-1]\n",
    "    \n",
    "    GDPchange = OurDF.loc[fifthCountry, '2015'] - OurDF.loc[fifthCountry, '2006']\n",
    "    \n",
    "    return (fifthCountry, GDPchange)\n",
    "\n",
    "print(gdpChangeForFifthCountry(combined_df))"
   ]
  },
  {
   "cell_type": "code",
   "execution_count": 4,
   "id": "6791b415-2551-429c-9ae0-b91640eaa7e9",
   "metadata": {},
   "outputs": [
    {
     "name": "stdout",
     "output_type": "stream",
     "text": [
      "('Brazil', 69.64803)\n"
     ]
    }
   ],
   "source": [
    "# task 10\n",
    "def maxRenewableEnergyCountry(OurDF):\n",
    "    maxRenewableCountry = OurDF['% Renewable'].idxmax()\n",
    "    maxRenewablePercentage = OurDF.loc[maxRenewableCountry, '% Renewable']\n",
    "    \n",
    "    return (maxRenewableCountry, maxRenewablePercentage)\n",
    "print(maxRenewableEnergyCountry(combined_df))"
   ]
  },
  {
   "cell_type": "code",
   "execution_count": 30,
   "id": "8a9656d5-3c1e-407b-a05f-b842b1e813dc",
   "metadata": {},
   "outputs": [
    {
     "name": "stdout",
     "output_type": "stream",
     "text": [
      "('Germany', 80369696.96969697)\n"
     ]
    }
   ],
   "source": [
    "# task 11\n",
    "def estimatePopulation(OurDF):\n",
    "    OurDF['Population Estimate'] = OurDF['Energy Supply'] / OurDF['Energy Supply per Capita']\n",
    "\n",
    "    OurDF['Population Estimate'] = pd.to_numeric(combined_df['Population Estimate'], errors='coerce')\n",
    "\n",
    "    OurDF = OurDF.dropna(subset=['Population Estimate'])\n",
    "\n",
    "    sixthCountry = OurDF.nlargest(6, 'Population Estimate').iloc[-1]\n",
    "\n",
    "    return (sixthCountry.name, sixthCountry['Population Estimate'])\n",
    "\n",
    "print(estimatePopulation(combined_df))"
   ]
  },
  {
   "cell_type": "code",
   "execution_count": 6,
   "id": "9fd71209-1764-41b8-a820-47b99a29ce7d",
   "metadata": {},
   "outputs": [
    {
     "name": "stdout",
     "output_type": "stream",
     "text": [
      "0.8642899768854405\n"
     ]
    }
   ],
   "source": [
    "# task 12\n",
    "def calculateCitationPerCapitaCorrelation(OurDF):\n",
    "\n",
    "    OurDF['Population Estimate'] = OurDF['Energy Supply'] / OurDF['Energy Supply per Capita']\n",
    "\n",
    "    \n",
    "    OurDF['Citations per Capita'] = OurDF['Citable documents'] / OurDF['Population Estimate']\n",
    "\n",
    "    OurDF['Citations per Capita'] = pd.to_numeric(OurDF['Citations per Capita'], errors='coerce')\n",
    "\n",
    "    OurDF = OurDF.dropna(subset=['Citations per Capita', 'Energy Supply per Capita'])\n",
    "\n",
    "    correlation = OurDF['Citations per Capita'].corr(OurDF['Energy Supply per Capita'])\n",
    "    \n",
    "    return correlation\n",
    "\n",
    "print(calculateCitationPerCapitaCorrelation(combined_df))"
   ]
  },
  {
   "cell_type": "code",
   "execution_count": 7,
   "id": "eedda908-7720-4ccd-9e80-b6f1290f07eb",
   "metadata": {},
   "outputs": [
    {
     "name": "stdout",
     "output_type": "stream",
     "text": [
      "Country\n",
      "China                 1\n",
      "Japan                 0\n",
      "Russian Federation    1\n",
      "Canada                1\n",
      "Germany               1\n",
      "India                 0\n",
      "France                0\n",
      "South Korea           0\n",
      "Italy                 1\n",
      "Spain                 1\n",
      "Iran                  0\n",
      "Australia             0\n",
      "Brazil                1\n",
      "Name: Renewable Indicator, dtype: int32\n"
     ]
    }
   ],
   "source": [
    "# task 13\n",
    "def createRenewableIndicator(OurDF):\n",
    "    median_renewable = OurDF['% Renewable'].median()\n",
    "\n",
    "    OurDF['Renewable Indicator'] = (OurDF['% Renewable'] >= median_renewable).astype(int)\n",
    "\n",
    "    return OurDF['Renewable Indicator']\n",
    "\n",
    "print(createRenewableIndicator(combined_df)) "
   ]
  },
  {
   "cell_type": "code",
   "execution_count": 31,
   "id": "adee2861-69fc-4080-83d2-0fa2cd4a26de",
   "metadata": {},
   "outputs": [
    {
     "name": "stdout",
     "output_type": "stream",
     "text": [
      "               size           sum          mean           std\n",
      "Continent                                                    \n",
      "Asia              5  2.898666e+09  5.797333e+08  6.790979e+08\n",
      "Australia         1  2.331602e+07  2.331602e+07           NaN\n",
      "Europe            5  3.940587e+08  7.881174e+07  3.813228e+07\n",
      "North America     1  3.523986e+07  3.523986e+07           NaN\n",
      "South America     1  2.059153e+08  2.059153e+08           NaN\n"
     ]
    }
   ],
   "source": [
    "def summarizePopulationByContinent(OurDF):\n",
    "    if 'Population Estimate' not in OurDF.columns:\n",
    "        OurDF['Population Estimate'] = OurDF['Energy Supply'] / OurDF['Energy Supply per Capita']\n",
    "\n",
    "    ContinentDict = {\n",
    "        'China': 'Asia',\n",
    "        'United States': 'North America',\n",
    "        'Japan': 'Asia',\n",
    "        'United Kingdom': 'Europe',\n",
    "        'Russian Federation': 'Europe',\n",
    "        'Canada': 'North America',\n",
    "        'Germany': 'Europe',\n",
    "        'India': 'Asia',\n",
    "        'France': 'Europe',\n",
    "        'South Korea': 'Asia',\n",
    "        'Italy': 'Europe',\n",
    "        'Spain': 'Europe',\n",
    "        'Iran': 'Asia',\n",
    "        'Australia': 'Australia',\n",
    "        'Brazil': 'South America'\n",
    "    }\n",
    "    \n",
    "    OurDF['Continent'] = OurDF.index.map(ContinentDict)\n",
    "    \n",
    "    grouped_df = OurDF.groupby('Continent').agg(\n",
    "        size=('Rank', 'size'),  \n",
    "        sum=('Population Estimate', 'sum'),  \n",
    "        mean=('Population Estimate', 'mean'),  \n",
    "        std=('Population Estimate', 'std')  \n",
    "    )\n",
    "    \n",
    "    return grouped_df\n",
    "\n",
    "print(summarizePopulationByContinent(combined_df))"
   ]
  },
  {
   "cell_type": "code",
   "execution_count": null,
   "id": "f42e2525-82b5-4d4a-800d-a98aeb9dc166",
   "metadata": {},
   "outputs": [],
   "source": []
  }
 ],
 "metadata": {
  "kernelspec": {
   "display_name": "Python 3 (ipykernel)",
   "language": "python",
   "name": "python3"
  },
  "language_info": {
   "codemirror_mode": {
    "name": "ipython",
    "version": 3
   },
   "file_extension": ".py",
   "mimetype": "text/x-python",
   "name": "python",
   "nbconvert_exporter": "python",
   "pygments_lexer": "ipython3",
   "version": "3.12.7"
  }
 },
 "nbformat": 4,
 "nbformat_minor": 5
}
